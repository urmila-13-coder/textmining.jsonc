{
 "cells": [
  {
   "cell_type": "code",
   "execution_count": 14,
   "id": "e7c127d7",
   "metadata": {},
   "outputs": [
    {
     "data": {
      "text/plain": [
       "['Unnamed: 0', 'Text']"
      ]
     },
     "execution_count": 14,
     "metadata": {},
     "output_type": "execute_result"
    }
   ],
   "source": [
    "import pandas as pd\n",
    "df = pd.read_csv('C:\\\\Users\\\\aamir\\\\Documents\\\\DATA SCIENCE\\\\.spyder-py3\\\\working practice\\\\Elon_musk.csv', encoding='latin1')\n",
    "df.head()\n",
    "list(df)"
   ]
  },
  {
   "cell_type": "code",
   "execution_count": 5,
   "id": "1044ffcb",
   "metadata": {},
   "outputs": [
    {
     "name": "stderr",
     "output_type": "stream",
     "text": [
      "C:\\ProgramData\\Anaconda3\\lib\\site-packages\\scipy\\__init__.py:146: UserWarning: A NumPy version >=1.16.5 and <1.23.0 is required for this version of SciPy (detected version 1.26.2\n",
      "  warnings.warn(f\"A NumPy version >={np_minversion} and <{np_maxversion}\"\n"
     ]
    }
   ],
   "source": [
    "import pandas as pd\n",
    "from textblob import TextBlob\n",
    "import matplotlib.pyplot as plt\n"
   ]
  },
  {
   "cell_type": "code",
   "execution_count": 7,
   "id": "c719c1bb",
   "metadata": {},
   "outputs": [],
   "source": [
    "with open('C:\\\\Users\\\\aamir\\\\Documents\\\\DATA SCIENCE\\\\.spyder-py3\\\\working practice\\\\Elon_musk.csv', 'rb') as file:\n",
    "    content = file.read().decode('latin1')\n",
    "import io\n"
   ]
  },
  {
   "cell_type": "code",
   "execution_count": 8,
   "id": "ad281645",
   "metadata": {},
   "outputs": [],
   "source": [
    "elon_tweets = pd.read_csv(io.StringIO(content))\n"
   ]
  },
  {
   "cell_type": "code",
   "execution_count": 16,
   "id": "b6120ba0",
   "metadata": {},
   "outputs": [],
   "source": [
    "elon_tweets['Sentiment'] = elon_tweets['Text'].apply(lambda text: TextBlob(str(text)).sentiment.polarity)\n",
    "elon_tweets['Sentiment_Category'] = elon_tweets['Sentiment'].apply(lambda score: 'Positive' if score > 0 else 'Negative' if score < 0 else 'Neutral')\n"
   ]
  },
  {
   "cell_type": "code",
   "execution_count": 17,
   "id": "5de211e2",
   "metadata": {},
   "outputs": [
    {
     "data": {
      "image/png": "[encoded data removed]",
      "text/plain": [
       "<Figure size 576x432 with 1 Axes>"
      ]
     },
     "metadata": {
      "needs_background": "light"
     },
     "output_type": "display_data"
    }
   ],
   "source": [
    "plt.figure(figsize=(8, 6))\n",
    "elon_tweets['Sentiment_Category'].value_counts().plot(kind='bar', color=['green', 'red', 'blue'])\n",
    "plt.title('Sentiment Analysis of Elon Musk\\'s Tweets')\n",
    "plt.xlabel('Sentiment Category')\n",
    "plt.ylabel('Number of Tweets')\n",
    "plt.show()"
   ]
  },
  {
   "cell_type": "code",
   "execution_count": null,
   "id": "0502da1e",
   "metadata": {},
   "outputs": [],
   "source": []
  }
 ],
 "metadata": {
  "kernelspec": {
   "display_name": "Python 3 (ipykernel)",
   "language": "python",
   "name": "python3"
  },
  "language_info": {
   "codemirror_mode": {
    "name": "ipython",
    "version": 3
   },
   "file_extension": ".py",
   "mimetype": "text/x-python",
   "name": "python",
   "nbconvert_exporter": "python",
   "pygments_lexer": "ipython3",
   "version": "3.9.12"
  }
 },
 "nbformat": 4,
 "nbformat_minor": 5
}
